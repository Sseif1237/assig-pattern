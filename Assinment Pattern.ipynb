{
 "cells": [
  {
   "cell_type": "code",
   "execution_count": 11,
   "metadata": {},
   "outputs": [
    {
     "name": "stdout",
     "output_type": "stream",
     "text": [
      "Sensitivity: 0.8292999135695764\n",
      "Specificity: 0.7813547954393025\n",
      "Posterior probability of making over 50K a year: [2.95609603e-06 9.46590997e-01 9.53379784e-01 ... 3.22947297e-06\n",
      " 9.85945065e-01 1.00000000e+00]\n"
     ]
    }
   ],
   "source": [
    "import pandas as pd\n",
    "from sklearn.model_selection import train_test_split\n",
    "from sklearn.naive_bayes import GaussianNB\n",
    "from sklearn.metrics import confusion_matrix\n",
    "\n",
    "# Step 1: Download Census data\n",
    "url = \"https://archive.ics.uci.edu/ml/machine-learning-databases/adult/adult.data\"\n",
    "column_names = ['age', 'workclass', 'fnlwgt', 'education', 'education-num', 'marital-status', 'occupation', 'relationship', 'race', 'sex', 'capital-gain', 'capital-loss', 'hours-per-week', 'native-country', 'income']\n",
    "data = pd.read_csv(url, names=column_names, na_values=' ?', skipinitialspace=True)\n",
    "\n",
    "# Step 2: Preprocessing\n",
    "data.dropna(inplace=True)\n",
    "X = data[['age', 'workclass', 'education', 'marital-status', 'occupation', 'relationship', 'race', 'sex', 'capital-gain', 'capital-loss', 'hours-per-week', 'native-country']]\n",
    "y = data['income']\n",
    "X = pd.get_dummies(X)  # Convert categorical variables into dummy/indicator variables\n",
    "\n",
    "# Step 3: Split data into training and testing sets\n",
    "X_train, X_test, y_train, y_test = train_test_split(X, y, test_size=0.3, random_state=42)\n",
    "\n",
    "# Step 4: Train Naive Bayes Classifier\n",
    "nb_classifier = GaussianNB()\n",
    "nb_classifier.fit(X_train, y_train)\n",
    "\n",
    "# Step 5: Predictions\n",
    "y_pred = nb_classifier.predict(X_test)\n",
    "\n",
    "# Step 6: Compute Sensitivity and Specificity\n",
    "tn, fp, fn, tp = confusion_matrix(y_test, y_pred).ravel()\n",
    "sensitivity = tp / (tp + fn)\n",
    "specificity = tn / (tn + fp)\n",
    "print(\"Sensitivity:\", sensitivity)\n",
    "print(\"Specificity:\", specificity)\n",
    "\n",
    "# Step 7: Compute the posterior probability of making over 50K a year\n",
    "posterior_probabilities = nb_classifier.predict_proba(X_test)\n",
    "index_over_50k = nb_classifier.classes_.tolist().index('>50K')\n",
    "posterior_prob_over_50k = posterior_probabilities[:, index_over_50k]\n",
    "print(\"Posterior probability of making over 50K a year:\", posterior_prob_over_50k)\n"
   ]
  }
 ],
 "metadata": {
  "kernelspec": {
   "display_name": "Python 3",
   "language": "python",
   "name": "python3"
  },
  "language_info": {
   "codemirror_mode": {
    "name": "ipython",
    "version": 3
   },
   "file_extension": ".py",
   "mimetype": "text/x-python",
   "name": "python",
   "nbconvert_exporter": "python",
   "pygments_lexer": "ipython3",
   "version": "3.12.3"
  }
 },
 "nbformat": 4,
 "nbformat_minor": 2
}
